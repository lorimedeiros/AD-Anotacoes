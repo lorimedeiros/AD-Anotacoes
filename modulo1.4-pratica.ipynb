{
 "cells": [
  {
   "cell_type": "markdown",
   "id": "cee9872c",
   "metadata": {},
   "source": [
    "### Carregamento de dados"
   ]
  },
  {
   "cell_type": "code",
   "execution_count": null,
   "id": "bb413833",
   "metadata": {},
   "outputs": [
    {
     "data": {
      "text/html": [
       "<div>\n",
       "<style scoped>\n",
       "    .dataframe tbody tr th:only-of-type {\n",
       "        vertical-align: middle;\n",
       "    }\n",
       "\n",
       "    .dataframe tbody tr th {\n",
       "        vertical-align: top;\n",
       "    }\n",
       "\n",
       "    .dataframe thead th {\n",
       "        text-align: right;\n",
       "    }\n",
       "</style>\n",
       "<table border=\"1\" class=\"dataframe\">\n",
       "  <thead>\n",
       "    <tr style=\"text-align: right;\">\n",
       "      <th></th>\n",
       "      <th>ID</th>\n",
       "      <th>Nota 1</th>\n",
       "      <th>Nota 2</th>\n",
       "      <th>Nota 3</th>\n",
       "      <th>Nota 4</th>\n",
       "    </tr>\n",
       "  </thead>\n",
       "  <tbody>\n",
       "    <tr>\n",
       "      <th>0</th>\n",
       "      <td>1</td>\n",
       "      <td>8.3</td>\n",
       "      <td>8.0</td>\n",
       "      <td>9.3</td>\n",
       "      <td>8.0</td>\n",
       "    </tr>\n",
       "    <tr>\n",
       "      <th>1</th>\n",
       "      <td>2</td>\n",
       "      <td>7.0</td>\n",
       "      <td>7.7</td>\n",
       "      <td>4.6</td>\n",
       "      <td>8.7</td>\n",
       "    </tr>\n",
       "    <tr>\n",
       "      <th>2</th>\n",
       "      <td>3</td>\n",
       "      <td>7.8</td>\n",
       "      <td>3.2</td>\n",
       "      <td>7.7</td>\n",
       "      <td>5.1</td>\n",
       "    </tr>\n",
       "    <tr>\n",
       "      <th>3</th>\n",
       "      <td>4</td>\n",
       "      <td>7.3</td>\n",
       "      <td>9.3</td>\n",
       "      <td>9.8</td>\n",
       "      <td>4.8</td>\n",
       "    </tr>\n",
       "    <tr>\n",
       "      <th>4</th>\n",
       "      <td>5</td>\n",
       "      <td>5.8</td>\n",
       "      <td>9.8</td>\n",
       "      <td>10.0</td>\n",
       "      <td>6.8</td>\n",
       "    </tr>\n",
       "    <tr>\n",
       "      <th>5</th>\n",
       "      <td>6</td>\n",
       "      <td>9.6</td>\n",
       "      <td>9.8</td>\n",
       "      <td>10.0</td>\n",
       "      <td>9.0</td>\n",
       "    </tr>\n",
       "    <tr>\n",
       "      <th>6</th>\n",
       "      <td>7</td>\n",
       "      <td>9.0</td>\n",
       "      <td>8.5</td>\n",
       "      <td>8.5</td>\n",
       "      <td>8.0</td>\n",
       "    </tr>\n",
       "    <tr>\n",
       "      <th>7</th>\n",
       "      <td>8</td>\n",
       "      <td>4.0</td>\n",
       "      <td>7.5</td>\n",
       "      <td>5.3</td>\n",
       "      <td>2.0</td>\n",
       "    </tr>\n",
       "    <tr>\n",
       "      <th>8</th>\n",
       "      <td>9</td>\n",
       "      <td>10.0</td>\n",
       "      <td>9.9</td>\n",
       "      <td>9.6</td>\n",
       "      <td>9.1</td>\n",
       "    </tr>\n",
       "    <tr>\n",
       "      <th>9</th>\n",
       "      <td>10</td>\n",
       "      <td>8.3</td>\n",
       "      <td>8.7</td>\n",
       "      <td>8.0</td>\n",
       "      <td>6.7</td>\n",
       "    </tr>\n",
       "    <tr>\n",
       "      <th>10</th>\n",
       "      <td>11</td>\n",
       "      <td>10.0</td>\n",
       "      <td>10.0</td>\n",
       "      <td>8.5</td>\n",
       "      <td>9.8</td>\n",
       "    </tr>\n",
       "    <tr>\n",
       "      <th>11</th>\n",
       "      <td>12</td>\n",
       "      <td>7.3</td>\n",
       "      <td>9.0</td>\n",
       "      <td>7.8</td>\n",
       "      <td>7.0</td>\n",
       "    </tr>\n",
       "    <tr>\n",
       "      <th>12</th>\n",
       "      <td>13</td>\n",
       "      <td>8.8</td>\n",
       "      <td>9.2</td>\n",
       "      <td>10.0</td>\n",
       "      <td>8.7</td>\n",
       "    </tr>\n",
       "    <tr>\n",
       "      <th>13</th>\n",
       "      <td>14</td>\n",
       "      <td>6.5</td>\n",
       "      <td>8.6</td>\n",
       "      <td>7.0</td>\n",
       "      <td>4.0</td>\n",
       "    </tr>\n",
       "    <tr>\n",
       "      <th>14</th>\n",
       "      <td>15</td>\n",
       "      <td>10.0</td>\n",
       "      <td>8.5</td>\n",
       "      <td>8.1</td>\n",
       "      <td>8.5</td>\n",
       "    </tr>\n",
       "    <tr>\n",
       "      <th>15</th>\n",
       "      <td>16</td>\n",
       "      <td>9.7</td>\n",
       "      <td>10.0</td>\n",
       "      <td>7.7</td>\n",
       "      <td>7.5</td>\n",
       "    </tr>\n",
       "    <tr>\n",
       "      <th>16</th>\n",
       "      <td>17</td>\n",
       "      <td>8.3</td>\n",
       "      <td>9.7</td>\n",
       "      <td>8.7</td>\n",
       "      <td>6.8</td>\n",
       "    </tr>\n",
       "    <tr>\n",
       "      <th>17</th>\n",
       "      <td>18</td>\n",
       "      <td>7.5</td>\n",
       "      <td>9.4</td>\n",
       "      <td>6.0</td>\n",
       "      <td>7.2</td>\n",
       "    </tr>\n",
       "    <tr>\n",
       "      <th>18</th>\n",
       "      <td>19</td>\n",
       "      <td>9.3</td>\n",
       "      <td>9.9</td>\n",
       "      <td>9.8</td>\n",
       "      <td>9.1</td>\n",
       "    </tr>\n",
       "    <tr>\n",
       "      <th>19</th>\n",
       "      <td>20</td>\n",
       "      <td>0.0</td>\n",
       "      <td>2.5</td>\n",
       "      <td>1.0</td>\n",
       "      <td>0.0</td>\n",
       "    </tr>\n",
       "    <tr>\n",
       "      <th>20</th>\n",
       "      <td>21</td>\n",
       "      <td>5.0</td>\n",
       "      <td>8.0</td>\n",
       "      <td>5.8</td>\n",
       "      <td>4.8</td>\n",
       "    </tr>\n",
       "  </tbody>\n",
       "</table>\n",
       "</div>"
      ],
      "text/plain": [
       "     ID  Nota 1  Nota 2  Nota 3  Nota 4\n",
       "0     1     8.3     8.0     9.3     8.0\n",
       "1     2     7.0     7.7     4.6     8.7\n",
       "2     3     7.8     3.2     7.7     5.1\n",
       "3     4     7.3     9.3     9.8     4.8\n",
       "4     5     5.8     9.8    10.0     6.8\n",
       "5     6     9.6     9.8    10.0     9.0\n",
       "6     7     9.0     8.5     8.5     8.0\n",
       "7     8     4.0     7.5     5.3     2.0\n",
       "8     9    10.0     9.9     9.6     9.1\n",
       "9    10     8.3     8.7     8.0     6.7\n",
       "10   11    10.0    10.0     8.5     9.8\n",
       "11   12     7.3     9.0     7.8     7.0\n",
       "12   13     8.8     9.2    10.0     8.7\n",
       "13   14     6.5     8.6     7.0     4.0\n",
       "14   15    10.0     8.5     8.1     8.5\n",
       "15   16     9.7    10.0     7.7     7.5\n",
       "16   17     8.3     9.7     8.7     6.8\n",
       "17   18     7.5     9.4     6.0     7.2\n",
       "18   19     9.3     9.9     9.8     9.1\n",
       "19   20     0.0     2.5     1.0     0.0\n",
       "20   21     5.0     8.0     5.8     4.8"
      ]
     },
     "execution_count": 6,
     "metadata": {},
     "output_type": "execute_result"
    }
   ],
   "source": [
    "import numpy as np\n",
    "import pandas as pd\n",
    "\n",
    "notas_so1 = pd.read_excel(\"modulo1.4-dados.xlsx\")\n",
    "notas_so1"
   ]
  },
  {
   "cell_type": "code",
   "execution_count": null,
   "id": "2fe0286e",
   "metadata": {},
   "outputs": [
    {
     "name": "stdout",
     "output_type": "stream",
     "text": [
      "<class 'pandas.core.frame.DataFrame'>\n",
      "RangeIndex: 21 entries, 0 to 20\n",
      "Data columns (total 5 columns):\n",
      " #   Column  Non-Null Count  Dtype  \n",
      "---  ------  --------------  -----  \n",
      " 0    ID     21 non-null     int64  \n",
      " 1   Nota 1  21 non-null     float64\n",
      " 2   Nota 2  21 non-null     float64\n",
      " 3   Nota 3  21 non-null     float64\n",
      " 4   Nota 4  21 non-null     float64\n",
      "dtypes: float64(4), int64(1)\n",
      "memory usage: 972.0 bytes\n"
     ]
    }
   ],
   "source": [
    "# comando info para obter informações sobre tipos\n",
    "# também mostra a presença de dados nulos\n",
    "notas_so1.info()"
   ]
  },
  {
   "cell_type": "code",
   "execution_count": null,
   "id": "05537b7b",
   "metadata": {},
   "outputs": [
    {
     "data": {
      "text/html": [
       "<div>\n",
       "<style scoped>\n",
       "    .dataframe tbody tr th:only-of-type {\n",
       "        vertical-align: middle;\n",
       "    }\n",
       "\n",
       "    .dataframe tbody tr th {\n",
       "        vertical-align: top;\n",
       "    }\n",
       "\n",
       "    .dataframe thead th {\n",
       "        text-align: right;\n",
       "    }\n",
       "</style>\n",
       "<table border=\"1\" class=\"dataframe\">\n",
       "  <thead>\n",
       "    <tr style=\"text-align: right;\">\n",
       "      <th></th>\n",
       "      <th>ID</th>\n",
       "      <th>Nota 1</th>\n",
       "      <th>Nota 2</th>\n",
       "      <th>Nota 3</th>\n",
       "      <th>Nota 4</th>\n",
       "    </tr>\n",
       "  </thead>\n",
       "  <tbody>\n",
       "    <tr>\n",
       "      <th>count</th>\n",
       "      <td>21.000000</td>\n",
       "      <td>21.000000</td>\n",
       "      <td>21.000000</td>\n",
       "      <td>21.000000</td>\n",
       "      <td>21.000000</td>\n",
       "    </tr>\n",
       "    <tr>\n",
       "      <th>mean</th>\n",
       "      <td>11.000000</td>\n",
       "      <td>7.595238</td>\n",
       "      <td>8.438095</td>\n",
       "      <td>7.771429</td>\n",
       "      <td>6.742857</td>\n",
       "    </tr>\n",
       "    <tr>\n",
       "      <th>std</th>\n",
       "      <td>6.204837</td>\n",
       "      <td>2.408003</td>\n",
       "      <td>2.020266</td>\n",
       "      <td>2.242129</td>\n",
       "      <td>2.510492</td>\n",
       "    </tr>\n",
       "    <tr>\n",
       "      <th>min</th>\n",
       "      <td>1.000000</td>\n",
       "      <td>0.000000</td>\n",
       "      <td>2.500000</td>\n",
       "      <td>1.000000</td>\n",
       "      <td>0.000000</td>\n",
       "    </tr>\n",
       "    <tr>\n",
       "      <th>25%</th>\n",
       "      <td>6.000000</td>\n",
       "      <td>7.000000</td>\n",
       "      <td>8.000000</td>\n",
       "      <td>7.000000</td>\n",
       "      <td>5.100000</td>\n",
       "    </tr>\n",
       "    <tr>\n",
       "      <th>50%</th>\n",
       "      <td>11.000000</td>\n",
       "      <td>8.300000</td>\n",
       "      <td>9.000000</td>\n",
       "      <td>8.100000</td>\n",
       "      <td>7.200000</td>\n",
       "    </tr>\n",
       "    <tr>\n",
       "      <th>75%</th>\n",
       "      <td>16.000000</td>\n",
       "      <td>9.300000</td>\n",
       "      <td>9.800000</td>\n",
       "      <td>9.600000</td>\n",
       "      <td>8.700000</td>\n",
       "    </tr>\n",
       "    <tr>\n",
       "      <th>max</th>\n",
       "      <td>21.000000</td>\n",
       "      <td>10.000000</td>\n",
       "      <td>10.000000</td>\n",
       "      <td>10.000000</td>\n",
       "      <td>9.800000</td>\n",
       "    </tr>\n",
       "  </tbody>\n",
       "</table>\n",
       "</div>"
      ],
      "text/plain": [
       "              ID     Nota 1     Nota 2     Nota 3     Nota 4\n",
       "count  21.000000  21.000000  21.000000  21.000000  21.000000\n",
       "mean   11.000000   7.595238   8.438095   7.771429   6.742857\n",
       "std     6.204837   2.408003   2.020266   2.242129   2.510492\n",
       "min     1.000000   0.000000   2.500000   1.000000   0.000000\n",
       "25%     6.000000   7.000000   8.000000   7.000000   5.100000\n",
       "50%    11.000000   8.300000   9.000000   8.100000   7.200000\n",
       "75%    16.000000   9.300000   9.800000   9.600000   8.700000\n",
       "max    21.000000  10.000000  10.000000  10.000000   9.800000"
      ]
     },
     "execution_count": 8,
     "metadata": {},
     "output_type": "execute_result"
    }
   ],
   "source": [
    "# gera estatísticas descritivas de um DataFrame ou Series\n",
    "notas_so1.describe()\n",
    "\n",
    "# count : nº de valores não nulos (não-NA)(non-null)\n",
    "# mean  : média \n",
    "# std   : desvio padrão (medida de dispersão dos dados em torno da média)\n",
    "# min   : valor mínimo presente na coluna\n",
    "# 25%   : primeiro quartil (25% dos dados estão abaixo desse valor)\n",
    "# 50%   : mediana (segundo quartil, 50% dos dados estão abaixo desse valor)\n",
    "# 75%   : terceiro quartil (75% dos dados estão abaixo desse valor)\n",
    "# max   : valor máximo presente na coluna"
   ]
  },
  {
   "cell_type": "code",
   "execution_count": null,
   "id": "8a97db8c",
   "metadata": {},
   "outputs": [
    {
     "data": {
      "text/plain": [
       " ID       11.000000\n",
       "Nota 1     7.595238\n",
       "Nota 2     8.438095\n",
       "Nota 3     7.771429\n",
       "Nota 4     6.742857\n",
       "dtype: float64"
      ]
     },
     "execution_count": 9,
     "metadata": {},
     "output_type": "execute_result"
    }
   ],
   "source": [
    "# calcular media de cada unidade\n",
    "notas_so1.mean(numeric_only=True)"
   ]
  },
  {
   "cell_type": "markdown",
   "id": "c3f3dd22",
   "metadata": {},
   "source": [
    "### Supunhamos que eu tivesse força de vontade para digitar as notas de outro período:"
   ]
  },
  {
   "cell_type": "code",
   "execution_count": null,
   "id": "3d52b85b",
   "metadata": {},
   "outputs": [],
   "source": [
    "# carregando dados\n",
    "notas_so2 = pd.read_excel(\"pseudonotas2.xlsx\")"
   ]
  },
  {
   "cell_type": "markdown",
   "id": "d1e872f6",
   "metadata": {},
   "source": [
    "### Conectando dataframes"
   ]
  },
  {
   "cell_type": "code",
   "execution_count": null,
   "id": "d79c5a5a",
   "metadata": {},
   "outputs": [],
   "source": [
    "# definindo coluna período para diferenciar após mescla\n",
    "notas_so1[\"periodo\"] = \"2025.1\"\n",
    "notas_so2[\"periodo\"] = \"2025.2\"\n",
    "\n",
    "# enfim, a mescla\n",
    "notas_final = pd.concat([notas_so1, notas_so2])"
   ]
  },
  {
   "cell_type": "markdown",
   "id": "ec127f5f",
   "metadata": {},
   "source": [
    "### Filtrando Dados (Forma 1 - Rústica)"
   ]
  },
  {
   "cell_type": "code",
   "execution_count": null,
   "id": "446618cc",
   "metadata": {},
   "outputs": [],
   "source": [
    "# media unidade 1 periodo .1\n",
    "notas_final[notas_final[\"periodo\"] == \"2025.1\"][\"Nota 1\"].mean()\n",
    "\n",
    "# media unidade 1 periodo .2\n",
    "notas_final[notas_final[\"periodo\"] == \"2025.2\"][\"Nota 1\"].mean()\n",
    "\n",
    "# fração de alunos com nota acima da média na unidade 1 periodo .1\n",
    "len(notas_final[(notas_final[\"periodo\"] == \"2025.1\") & (notas_final[\"Nota 1\"] >= 7)].index) / len(notas_final[(notas_final[\"periodo\"] == \"2025.1\")].index)\n",
    "# pegou as notas >= 7 e dividiu pela quantidade de notas"
   ]
  },
  {
   "cell_type": "markdown",
   "id": "5ec09ad6",
   "metadata": {},
   "source": [
    "### Filtrando Dados (Forma 2 - GroupBy)"
   ]
  },
  {
   "cell_type": "code",
   "execution_count": null,
   "id": "a8b4d766",
   "metadata": {},
   "outputs": [],
   "source": [
    "# media todas as unidades agrupadas por periodo\n",
    "media_por_periodo = notas_final.groupby([\"periodo\"]).mean()\n",
    "media_por_periodo\n",
    "\n",
    "# fração de alunos com nota acima da média na unidade 1 para cada periodo\n",
    "def prop_aprovados(df, col=\"Nota 1\", nota_aprovacao=7):\n",
    "    return len(df[df[\"Nota 1\"] >= nota_aprovacao].index) / len(df.index)\n",
    "    \n",
    "notas_final.groupby([\"periodo\"]).apply(prop_aprovados)"
   ]
  },
  {
   "cell_type": "markdown",
   "id": "13d0eb40",
   "metadata": {},
   "source": [
    "### tidy data\n",
    "forma de organizar dados que facilita a leitura de dados por parte das ferramentas de análise\n",
    "\n",
    "#### Existem 3 regras para uma tabela ser tidy:\n",
    "* Cada variável deve ter sua própria coluna.\n",
    "* Cada observação deve ter sua própria linha.\n",
    "* Cada valor deve ter sua própria célula."
   ]
  },
  {
   "cell_type": "markdown",
   "id": "936fbc31",
   "metadata": {},
   "source": [
    "### Usando o Pandas para transformar os dados no formato tidy, usando funções de reshaping e pivot tables\n",
    "https://pandas.pydata.org/pandas-docs/stable/user_guide/reshaping.html\n",
    "\n",
    " Primeiro para as notas de Sistemas Operacionais, vamos adicionar uma coluna com o nome da disciplina e transformar as colunas nota_1, nota_2, nota_3 e nota_4 em duas colunas: unidade e nota. Ou seja, um aluno da turma ao invés de ter as 4 notas em apenas uma linha, ele terá as notas distribuídas em 4 linhas, uma para cada unidade. Para isto, vamos usar a função do Pandas wide_to_long:"
   ]
  },
  {
   "cell_type": "code",
   "execution_count": null,
   "id": "cde44150",
   "metadata": {},
   "outputs": [],
   "source": [
    "# isso aqui seria supondo que tivéssemos adicionado notas de outras disciplinas no nosso arquivo\n",
    "so[\"disciplina\"] = \"Sistemas Operacionais\"\n",
    "so_tidy = pd.wide_to_long(so, stubnames='nota', i=['id', 'periodo', 'disciplina'],\n",
    "                          j='unidade', sep=\"_\")\n",
    "so_tidy\n",
    "\n",
    "# O parâmetro stubname='nota' indica que ele vai transformar as colunas que começam com a palavra “nota”. \n",
    "# O parâmetro i=['id', 'periodo', 'disciplina'] indica as colunas que identificarão unicamente cada linha de observação (serão os índices).\n",
    "# E o parâmetro j='unidade' indica o nome da nova coluna que será criada, onde os valores serão os números encontrados nas colunas nota_X, considerando que sep=\"_\" e os nomes das colunas têm o formato nota_unidade."
   ]
  },
  {
   "cell_type": "markdown",
   "id": "f3244a68",
   "metadata": {},
   "source": [
    "Fazendo isso agora para as outras disciplinas e concatenando tudo em um único DataFrame. Vamos também renomear o index id para id_aluno para melhor compreensão dos dados. O parâmetro inplace=True faz com que o DataFrame notas seja alterado ao invés de retornar um novo DataFrame com a alteração realizada."
   ]
  },
  {
   "cell_type": "code",
   "execution_count": null,
   "id": "bfcbf60c",
   "metadata": {},
   "outputs": [],
   "source": [
    "ads_tidy = pd.wide_to_long(ads_20171, stubnames='nota', i=['id', 'periodo', 'disciplina'], j='unidade', sep=\"_\")\n",
    "sd_tidy = pd.wide_to_long(sd_20172, stubnames='nota', i=['id', 'periodo', 'disciplina'], j='unidade', sep=\"_\")\n",
    "\n",
    "notas = pd.concat([so_tidy, ads_tidy, sd_tidy])\n",
    "notas.index.set_names({'id': 'id_aluno'}, inplace=True)\n",
    "        \n",
    "notas"
   ]
  },
  {
   "cell_type": "markdown",
   "id": "117172ea",
   "metadata": {},
   "source": [
    "Como calcular agora a nota média para cada disciplina, período e unidade? Ficou bem mais fácil.\n",
    "\n",
    "### Média da turma por unidade"
   ]
  },
  {
   "cell_type": "code",
   "execution_count": null,
   "id": "04687501",
   "metadata": {},
   "outputs": [],
   "source": [
    "notas.groupby([\"disciplina\", \"periodo\", \"unidade\"]).mean()"
   ]
  },
  {
   "cell_type": "markdown",
   "id": "a8355159",
   "metadata": {},
   "source": [
    "Em resumo, unidade é como uma lista que armazena as 3-4 notas e periodo armazena 2 periodos, nesse fim, irá separar por disciplina, período, unidade e média de cada unidade.\n",
    "a disciplina tem os períodos(2), os períodos tem as unidades(3-4) e cada unidade tem sua média (única)\n"
   ]
  },
  {
   "cell_type": "markdown",
   "id": "3b2a2a92",
   "metadata": {},
   "source": [
    "### Média de cada aluno em cada turma"
   ]
  },
  {
   "cell_type": "code",
   "execution_count": null,
   "id": "91d87424",
   "metadata": {},
   "outputs": [],
   "source": [
    "media_alunos = notas.groupby([\"disciplina\", \"periodo\", \"id_aluno\"]).mean()\n",
    "media_alunos"
   ]
  },
  {
   "cell_type": "markdown",
   "id": "ddb49c64",
   "metadata": {},
   "source": [
    "disciplinas tem períodos, que por sua vez tem alunos, cada um com sua nota única"
   ]
  },
  {
   "cell_type": "markdown",
   "id": "85b60eda",
   "metadata": {},
   "source": [
    "### Média geral de cada turma"
   ]
  },
  {
   "cell_type": "code",
   "execution_count": null,
   "id": "170a8d09",
   "metadata": {},
   "outputs": [],
   "source": [
    "media_turma = media_alunos.groupby([\"disciplina\", \"periodo\"]).mean()\n",
    "media_turma"
   ]
  },
  {
   "cell_type": "markdown",
   "id": "1ddb7bc2",
   "metadata": {},
   "source": [
    "cada disciplina tem seu(s) período(s) (1-2) que, por sua vez, tem suas médias"
   ]
  },
  {
   "cell_type": "markdown",
   "id": "98747002",
   "metadata": {},
   "source": [
    "### Outras estatísticas?\n",
    "E se eu quiser calcular outras estatísticas como a quantidade de alunos, nota mínima, mediana, média e máxima? Podemos usar a função agg para aplicar várias funções de agregação nos dados."
   ]
  },
  {
   "cell_type": "code",
   "execution_count": null,
   "id": "b7bbc3aa",
   "metadata": {},
   "outputs": [],
   "source": [
    "def prop_aprovados(medias, min_media_aprovacao=5):\n",
    "    return medias[medias >= min_media_aprovacao].count() / medias.count()\n",
    "\n",
    "(\n",
    "    media_alunos\n",
    "    .groupby([\"disciplina\", \"periodo\"])\n",
    "    .agg(['count', 'min', 'median', 'mean', 'max', prop_aprovados])\n",
    ")"
   ]
  },
  {
   "cell_type": "markdown",
   "id": "ca0e7ed4",
   "metadata": {},
   "source": [
    "Você também pode aplicar uma função própria, por exemplo a que calcula a proporção de alunos aprovados em cada disciplina, que conta as linhas apenas de alunos com nota maior ou igual à 5 e divide pela quantidade total de alunos dentro do grupo:"
   ]
  },
  {
   "cell_type": "code",
   "execution_count": null,
   "id": "f595f78c",
   "metadata": {},
   "outputs": [],
   "source": [
    "def prop_aprovados(medias, min_media_aprovacao=5):\n",
    "    return medias[medias >= min_media_aprovacao].count() / medias.count()\n",
    "\n",
    "(\n",
    "    media_alunos\n",
    "    .groupby([\"disciplina\", \"periodo\"])\n",
    "    .agg([prop_aprovados])\n",
    "\"APROVADO\" if media_alunos[\"nota\"] >= 5 else \"REPROVADO\")"
   ]
  },
  {
   "cell_type": "markdown",
   "id": "691d06e6",
   "metadata": {},
   "source": [
    "### Adicionando nova coluna aplicando função por linha\n",
    "Vamos adicionar uma coluna na tabela indicando se o aluno foi aprovado por média ou não. Para isso, vamos criar a nova função e aplicá-la para cada linha do dataframe com a função apply"
   ]
  },
  {
   "cell_type": "code",
   "execution_count": null,
   "id": "5a6ca797",
   "metadata": {},
   "outputs": [],
   "source": [
    "def calcula_resultado(media):\n",
    "    return 'APROVADO' if media >= 5 else 'REPROVADO'\n",
    "\n",
    "media_alunos[\"resultado\"] = media_alunos[\"nota\"].apply(calcula_resultado)\n",
    "media_alunos"
   ]
  },
  {
   "cell_type": "markdown",
   "id": "4c780298",
   "metadata": {},
   "source": [
    "### Ordenando as médias dos alunos da maior para a menor\n",
    "A função sort_values ordena o dataframe com base nos valores de uma ou mais colunas. O parâmetro ascending=False é usado para indicar que a ordenação não será feita na ordem padrão ascendente (ou seja, será na ordem descendente do maior para o menor valor)"
   ]
  },
  {
   "cell_type": "code",
   "execution_count": null,
   "id": "9fc63947",
   "metadata": {},
   "outputs": [],
   "source": [
    "media_alunos.sort_values('nota', ascending=False)"
   ]
  },
  {
   "cell_type": "markdown",
   "id": "47aa0c2f",
   "metadata": {},
   "source": [
    "### Como pegar as 3 maiores notas de cada turma?\n",
    "Pega o dataframe com a média dos alunos, ordena pela média em ordem decrescente, agrupa por turma (disciplina e período) e pega as 3 primeiras linhas de cada grupo\n"
   ]
  },
  {
   "cell_type": "code",
   "execution_count": null,
   "id": "1abc29ee",
   "metadata": {},
   "outputs": [],
   "source": [
    "(\n",
    "    media_alunos\n",
    "    .sort_values('nota', ascending=False)\n",
    "    .groupby(['disciplina', 'periodo'])\n",
    "    .head(3)\n",
    ")"
   ]
  },
  {
   "cell_type": "markdown",
   "id": "fddf4148",
   "metadata": {},
   "source": [
    "### Slicing\n",
    "Outra utilidade do Pandas é pegar apenas “fatias” (slices) dos dados, seja filtrando linhas ou colunas. O pandas oferece a função .loc para fazer o slicing a partir dos índices e a função .iloc para filtrar com base no número da linha.\n",
    "\n",
    "Por exemplo, para pegar apenas as linhas que tem “Sistemas Operacionais” como primeiro índice (disciplina), podemos usar:"
   ]
  },
  {
   "cell_type": "code",
   "execution_count": null,
   "id": "18eed535",
   "metadata": {},
   "outputs": [],
   "source": [
    "media_alunos.loc[\"Sistemas Distribuidos\"]\n",
    "\n",
    "#E se quisermos pegar apenas as linhas 5 a 10 do DataFrame podemos usar:\n",
    "media_alunos.iloc[5:10] # 6, 7, 8, 9, 10"
   ]
  },
  {
   "cell_type": "markdown",
   "id": "a3a4d09f",
   "metadata": {},
   "source": [
    "Podemos também fazer um slice de linha e coluna ao mesmo tempo. Por exemplo, para filtrar as linhas com índices de 0 a 4 e a coluna nota_3, podemos fazer:"
   ]
  },
  {
   "cell_type": "code",
   "execution_count": null,
   "id": "43676dec",
   "metadata": {},
   "outputs": [],
   "source": [
    "so.loc[0:4, \"nota_3\"]\n",
    "\n",
    "# SAÍDA:\n",
    "# 0     9.3\n",
    "# 1     4.6\n",
    "# 2     7.7\n",
    "# 3     9.8\n",
    "# 4    10.0\n",
    "# Name: nota_3, dtype: float64"
   ]
  },
  {
   "cell_type": "markdown",
   "id": "07d4ee30",
   "metadata": {},
   "source": [
    "Ou para pegar o valor que está na linha 10 e coluna 3 (lembrando que Python indexa a partir do 0):"
   ]
  },
  {
   "cell_type": "code",
   "execution_count": null,
   "id": "133b6af4",
   "metadata": {},
   "outputs": [],
   "source": [
    "so.iloc[10, 3]"
   ]
  },
  {
   "cell_type": "markdown",
   "id": "c2b05753",
   "metadata": {},
   "source": [
    "## Saída de dados\n",
    "Também podemos exportar um dataframe pra um arquivo. Por exemplo, para exportar a tabela de média dos alunos para um arquivo podemos rodar:"
   ]
  },
  {
   "cell_type": "code",
   "execution_count": null,
   "id": "3d9acd02",
   "metadata": {},
   "outputs": [],
   "source": [
    "media_alunos.to_csv(\"../dados/notas_medias_alunos.csv\")"
   ]
  }
 ],
 "metadata": {
  "kernelspec": {
   "display_name": "Python 3",
   "language": "python",
   "name": "python3"
  },
  "language_info": {
   "codemirror_mode": {
    "name": "ipython",
    "version": 3
   },
   "file_extension": ".py",
   "mimetype": "text/x-python",
   "name": "python",
   "nbconvert_exporter": "python",
   "pygments_lexer": "ipython3",
   "version": "3.11.9"
  }
 },
 "nbformat": 4,
 "nbformat_minor": 5
}
